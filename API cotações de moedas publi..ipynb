{
 "cells": [
  {
   "cell_type": "markdown",
   "metadata": {},
   "source": [
    "## API para busca de cotações de moedas"
   ]
  },
  {
   "cell_type": "markdown",
   "metadata": {},
   "source": [
    "### Importando todas as bibliotecas"
   ]
  },
  {
   "cell_type": "code",
   "execution_count": 7,
   "metadata": {},
   "outputs": [],
   "source": [
    "import requests\n",
    "import json\n",
    "import matplotlib.pyplot as plt"
   ]
  },
  {
   "cell_type": "code",
   "execution_count": 8,
   "metadata": {},
   "outputs": [
    {
     "name": "stdout",
     "output_type": "stream",
     "text": [
      "{'USD': {'code': 'USD', 'codein': 'BRL', 'name': 'Dólar Americano/Real Brasileiro', 'high': '5.3046', 'low': '5.279', 'varBid': '-0.0192', 'pctChange': '-0.36', 'bid': '5.2842', 'ask': '5.2855', 'timestamp': '1643717632', 'create_date': '2022-02-01 09:13:52'}, 'USDT': {'code': 'USD', 'codein': 'BRLT', 'name': 'Dólar Americano/Real Brasileiro Turismo', 'high': '5.53', 'low': '5.42', 'varBid': '-0.095', 'pctChange': '-1.72', 'bid': '5.28', 'ask': '5.59', 'timestamp': '1643657880', 'create_date': '2022-01-31 16:38:00'}, 'CAD': {'code': 'CAD', 'codein': 'BRL', 'name': 'Dólar Canadense/Real Brasileiro', 'high': '4.1915', 'low': '4.1588', 'varBid': '-0.0088', 'pctChange': '-0.21', 'bid': '4.1633', 'ask': '4.166', 'timestamp': '1643717630', 'create_date': '2022-02-01 09:13:50'}, 'GBP': {'code': 'GBP', 'codein': 'BRL', 'name': 'Libra Esterlina/Real Brasileiro', 'high': '7.1689', 'low': '7.1262', 'varBid': '0.0026', 'pctChange': '0.04', 'bid': '7.131', 'ask': '7.137', 'timestamp': '1643717633', 'create_date': '2022-02-01 09:13:53'}, 'ARS': {'code': 'ARS', 'codein': 'BRL', 'name': 'Peso Argentino/Real Brasileiro', 'high': '0.0505', 'low': '0.0503', 'varBid': '-0.0002', 'pctChange': '-0.4', 'bid': '0.0503', 'ask': '0.0503', 'timestamp': '1643717632', 'create_date': '2022-02-01 09:13:52'}, 'BTC': {'code': 'BTC', 'codein': 'BRL', 'name': 'Bitcoin/Real Brasileiro', 'high': '208', 'low': '200.531', 'varBid': '3945', 'pctChange': '1.96', 'bid': '204.603', 'ask': '204.977', 'timestamp': '1643717332', 'create_date': '2022-02-01 09:08:52'}, 'LTC': {'code': 'LTC', 'codein': 'BRL', 'name': 'Litecoin/Real Brasileiro', 'high': '598.32', 'low': '571.43', 'varBid': '9.86', 'pctChange': '1.7', 'bid': '585.52', 'ask': '588.57', 'timestamp': '1643717334', 'create_date': '2022-02-01 09:08:54'}, 'EUR': {'code': 'EUR', 'codein': 'BRL', 'name': 'Euro/Real Brasileiro', 'high': '5.9831', 'low': '5.95', 'varBid': '-0.0018', 'pctChange': '-0.03', 'bid': '5.9541', 'ask': '5.9585', 'timestamp': '1643717630', 'create_date': '2022-02-01 09:13:50'}, 'JPY': {'code': 'JPY', 'codein': 'BRL', 'name': 'Iene Japonês/Real Brasileiro', 'high': '0.04638', 'low': '0.04606', 'varBid': '0', 'pctChange': '0', 'bid': '0.04611', 'ask': '0.04613', 'timestamp': '1643717616', 'create_date': '2022-02-01 09:13:36'}, 'CHF': {'code': 'CHF', 'codein': 'BRL', 'name': 'Franco Suíço/Real Brasileiro', 'high': '5.7631', 'low': '5.7174', 'varBid': '0.0213', 'pctChange': '0.37', 'bid': '5.7381', 'ask': '5.7419', 'timestamp': '1643717630', 'create_date': '2022-02-01 09:13:50'}, 'AUD': {'code': 'AUD', 'codein': 'BRL', 'name': 'Dólar Australiano/Real Brasileiro', 'high': '3.7681', 'low': '3.731', 'varBid': '0.0093', 'pctChange': '0.25', 'bid': '3.7549', 'ask': '3.7572', 'timestamp': '1643717628', 'create_date': '2022-02-01 09:13:48'}, 'CNY': {'code': 'CNY', 'codein': 'BRL', 'name': 'Yuan Chinês/Real Brasileiro', 'high': '0.8339', 'low': '0.83', 'varBid': '-0.0144', 'pctChange': '-1.71', 'bid': '0.8304', 'ask': '0.8309', 'timestamp': '1643717583', 'create_date': '2022-02-01 09:13:03'}, 'ILS': {'code': 'ILS', 'codein': 'BRL', 'name': 'Novo Shekel Israelense/Real Brasileiro', 'high': '1.6809', 'low': '1.666', 'varBid': '-0.0144', 'pctChange': '-0.85', 'bid': '1.6679', 'ask': '1.6688', 'timestamp': '1643717585', 'create_date': '2022-02-01 09:13:05'}, 'ETH': {'code': 'ETH', 'codein': 'BRL', 'name': 'Ethereum/Real Brasileiro', 'high': '1200.21', 'low': '1200.21', 'varBid': '0', 'pctChange': '0', 'bid': '1440.25', 'ask': '16999.75', 'timestamp': '1610415652', 'create_date': '2021-01-11 22:40:52'}, 'XRP': {'code': 'XRP', 'codein': 'BRL', 'name': 'XRP/Real Brasileiro', 'high': '3.35', 'low': '3.18', 'varBid': '0.11', 'pctChange': '3.44', 'bid': '3.3', 'ask': '3.31', 'timestamp': '1643717331', 'create_date': '2022-02-01 09:08:51'}, 'DOGE': {'code': 'DOGE', 'codein': 'BRL', 'name': 'Dogecoin/Real Brasileiro', 'high': '0.765812', 'low': '0.742434', 'varBid': '0.00712699', 'pctChange': '0.96', 'bid': '0.753205', 'ask': '0.753205', 'timestamp': '1643717541', 'create_date': '2022-02-01 09:12:21'}}\n"
     ]
    }
   ],
   "source": [
    "cotacoes = requests.get('https://economia.awesomeapi.com.br/json/all')\n",
    "cotacoes_dic = cotacoes.json()\n",
    "print(cotacoes_dic)"
   ]
  },
  {
   "cell_type": "markdown",
   "metadata": {},
   "source": [
    "### Última cotação do Dólar, do Euro e do BitCoin"
   ]
  },
  {
   "cell_type": "code",
   "execution_count": 9,
   "metadata": {},
   "outputs": [
    {
     "name": "stdout",
     "output_type": "stream",
     "text": [
      "Dolar: $5.2842\n",
      "Euro: $5.9541\n",
      "BitCoin: $204.603\n"
     ]
    }
   ],
   "source": [
    "print('Dolar: ${}'.format(cotacoes_dic['USD']['bid']))\n",
    "print('Euro: ${}'.format(cotacoes_dic['EUR']['bid']))\n",
    "print('BitCoin: ${}'.format(cotacoes_dic['BTC']['bid']))"
   ]
  },
  {
   "cell_type": "markdown",
   "metadata": {},
   "source": [
    "### Cotação dos últimos 30 dias do dólar"
   ]
  },
  {
   "cell_type": "code",
   "execution_count": 10,
   "metadata": {},
   "outputs": [
    {
     "name": "stdout",
     "output_type": "stream",
     "text": [
      "Dolar: $5.6418\n",
      "Dolar: $5.6761\n",
      "Dolar: $5.6193\n",
      "Dolar: $5.6693\n",
      "Dolar: $5.6908\n",
      "Dolar: $5.8755\n",
      "Dolar: $5.8025\n",
      "Dolar: $5.672\n",
      "Dolar: $5.5357\n",
      "Dolar: $5.5518\n",
      "Dolar: $5.6156\n",
      "Dolar: $5.6244\n",
      "Dolar: $5.5832\n",
      "Dolar: $5.5602\n",
      "Dolar: $5.5214\n",
      "Dolar: $5.6211\n",
      "Dolar: $5.6491\n",
      "Dolar: $5.7561\n",
      "Dolar: $5.7819\n",
      "Dolar: $5.7729\n",
      "Dolar: $5.6315\n",
      "Dolar: $5.7071\n",
      "Dolar: $5.7075\n",
      "Dolar: $5.6639\n",
      "Dolar: $5.5892\n",
      "Dolar: $5.6133\n",
      "Dolar: $5.5679\n",
      "Dolar: $5.6753\n",
      "Dolar: $5.5458\n",
      "Dolar: $5.0358\n"
     ]
    },
    {
     "data": {
      "text/plain": [
       "<function matplotlib.pyplot.show(close=None, block=None)>"
      ]
     },
     "execution_count": 10,
     "metadata": {},
     "output_type": "execute_result"
    },
    {
     "data": {
      "image/png": "[encoded data removed]",
      "text/plain": [
       "<Figure size 1440x468 with 1 Axes>"
      ]
     },
     "metadata": {
      "needs_background": "light"
     },
     "output_type": "display_data"
    }
   ],
   "source": [
    "cotacoes_dlr = requests.get('https://economia.awesomeapi.com.br/json/daily/USD/30')\n",
    "cotacoes_dlr_dic = cotacoes_dlr.json()\n",
    "#print(cotacoes_dlr_dic[0])\n",
    "list_cot_dlr = [float(item['bid']) for item in cotacoes_dlr_dic]\n",
    "list_cot_dlr.reverse()\n",
    "for item in list_cot_dlr:\n",
    "    print('Dolar: ${}'.format(item))\n",
    "    \n",
    "plt.figure(figsize=(20, 6.5))\n",
    "plt.plot(list_cot_dlr)\n",
    "plt.show"
   ]
  },
  {
   "cell_type": "markdown",
   "metadata": {},
   "source": [
    "### Cotações do BitCoin de Jan/20 a Out/20"
   ]
  },
  {
   "cell_type": "code",
   "execution_count": 11,
   "metadata": {},
   "outputs": [
    {
     "name": "stdout",
     "output_type": "stream",
     "text": [
      "BitCoin: $78012.4\n",
      "BitCoin: $78014.1\n",
      "BitCoin: $78015.8\n",
      "BitCoin: $78021.2\n",
      "BitCoin: $78028.2\n",
      "BitCoin: $78032.5\n",
      "BitCoin: $78038.6\n",
      "BitCoin: $78044.2\n",
      "BitCoin: $78049.2\n",
      "BitCoin: $78052.2\n",
      "BitCoin: $78056.8\n",
      "BitCoin: $78061.7\n",
      "BitCoin: $78066.3\n",
      "BitCoin: $78069.5\n",
      "BitCoin: $78076.6\n",
      "BitCoin: $78081.7\n",
      "BitCoin: $78085.6\n",
      "BitCoin: $78092.1\n",
      "BitCoin: $78096.8\n",
      "BitCoin: $78105.3\n",
      "BitCoin: $78109.6\n",
      "BitCoin: $78113.1\n",
      "BitCoin: $78119.4\n",
      "BitCoin: $78124.6\n",
      "BitCoin: $78127.0\n",
      "BitCoin: $78476.4\n",
      "BitCoin: $78476.5\n",
      "BitCoin: $78476.7\n",
      "BitCoin: $78477.5\n",
      "BitCoin: $78849.0\n",
      "BitCoin: $78885.0\n",
      "BitCoin: $78849.5\n",
      "BitCoin: $78895.5\n",
      "BitCoin: $78895.5\n",
      "BitCoin: $78895.5\n",
      "BitCoin: $78895.5\n",
      "BitCoin: $78895.5\n",
      "BitCoin: $78895.5\n",
      "BitCoin: $78895.5\n",
      "BitCoin: $78895.5\n",
      "BitCoin: $78895.5\n",
      "BitCoin: $78895.5\n",
      "BitCoin: $78895.5\n",
      "BitCoin: $78694.2\n",
      "BitCoin: $78694.2\n",
      "BitCoin: $78695.2\n",
      "BitCoin: $78695.2\n",
      "BitCoin: $78704.5\n",
      "BitCoin: $78900.0\n",
      "BitCoin: $78900.0\n",
      "BitCoin: $78900.0\n",
      "BitCoin: $78851.0\n",
      "BitCoin: $78900.0\n",
      "BitCoin: $78950.0\n",
      "BitCoin: $79416.0\n",
      "BitCoin: $79750.0\n",
      "BitCoin: $79899.5\n",
      "BitCoin: $79801.7\n",
      "BitCoin: $79799.5\n",
      "BitCoin: $79574.7\n",
      "BitCoin: $79576.6\n",
      "BitCoin: $79601.0\n",
      "BitCoin: $79100.0\n",
      "BitCoin: $78796.9\n",
      "BitCoin: $78800.9\n",
      "BitCoin: $78806.3\n",
      "BitCoin: $79413.7\n",
      "BitCoin: $79413.7\n",
      "BitCoin: $79034.2\n",
      "BitCoin: $79163.3\n",
      "BitCoin: $79164.1\n",
      "BitCoin: $79165.2\n",
      "BitCoin: $79350.5\n",
      "BitCoin: $79400.3\n",
      "BitCoin: $79447.3\n",
      "BitCoin: $79810.0\n",
      "BitCoin: $79558.0\n",
      "BitCoin: $79815.0\n",
      "BitCoin: $79815.0\n",
      "BitCoin: $79558.0\n",
      "BitCoin: $79558.3\n",
      "BitCoin: $79559.6\n",
      "BitCoin: $79848.0\n",
      "BitCoin: $79850.0\n",
      "BitCoin: $79901.0\n",
      "BitCoin: $79901.0\n",
      "BitCoin: $79901.0\n",
      "BitCoin: $79900.0\n",
      "BitCoin: $79900.0\n",
      "BitCoin: $79645.2\n",
      "BitCoin: $79647.3\n",
      "BitCoin: $79747.7\n",
      "BitCoin: $79894.6\n",
      "BitCoin: $79895.1\n",
      "BitCoin: $79895.2\n",
      "BitCoin: $79895.3\n",
      "BitCoin: $79895.2\n",
      "BitCoin: $79894.6\n",
      "BitCoin: $79894.7\n",
      "BitCoin: $79895.0\n",
      "BitCoin: $79895.0\n",
      "BitCoin: $79900.0\n",
      "BitCoin: $79998.9\n",
      "BitCoin: $79998.2\n",
      "BitCoin: $79998.2\n",
      "BitCoin: $79998.2\n",
      "BitCoin: $79998.2\n",
      "BitCoin: $79998.9\n",
      "BitCoin: $79998.9\n",
      "BitCoin: $79998.9\n",
      "BitCoin: $79894.5\n",
      "BitCoin: $79894.6\n",
      "BitCoin: $79894.6\n",
      "BitCoin: $79894.7\n",
      "BitCoin: $79610.1\n",
      "BitCoin: $79651.1\n",
      "BitCoin: $79652.3\n",
      "BitCoin: $79999.0\n",
      "BitCoin: $79999.0\n",
      "BitCoin: $79999.1\n",
      "BitCoin: $79999.1\n",
      "BitCoin: $79999.1\n",
      "BitCoin: $79999.0\n",
      "BitCoin: $79999.0\n",
      "BitCoin: $79999.0\n",
      "BitCoin: $79822.3\n",
      "BitCoin: $79902.2\n",
      "BitCoin: $79652.4\n",
      "BitCoin: $79652.1\n",
      "BitCoin: $79653.0\n",
      "BitCoin: $79656.3\n",
      "BitCoin: $79656.6\n",
      "BitCoin: $79657.0\n",
      "BitCoin: $79657.0\n",
      "BitCoin: $79657.0\n",
      "BitCoin: $79658.0\n",
      "BitCoin: $79653.1\n",
      "BitCoin: $79653.1\n",
      "BitCoin: $79653.1\n",
      "BitCoin: $79600.0\n",
      "BitCoin: $79600.0\n",
      "BitCoin: $79600.0\n",
      "BitCoin: $79700.0\n",
      "BitCoin: $79600.0\n",
      "BitCoin: $79600.0\n",
      "BitCoin: $79600.0\n",
      "BitCoin: $79600.0\n",
      "BitCoin: $79600.0\n",
      "BitCoin: $79600.0\n",
      "BitCoin: $79600.0\n",
      "BitCoin: $79500.0\n",
      "BitCoin: $79700.0\n",
      "BitCoin: $79701.0\n",
      "BitCoin: $79500.1\n",
      "BitCoin: $79500.4\n",
      "BitCoin: $79650.0\n",
      "BitCoin: $79650.0\n",
      "BitCoin: $79500.1\n",
      "BitCoin: $79450.0\n",
      "BitCoin: $79377.2\n",
      "BitCoin: $79500.0\n",
      "BitCoin: $79500.6\n",
      "BitCoin: $79501.9\n",
      "BitCoin: $79603.6\n",
      "BitCoin: $79700.0\n",
      "BitCoin: $79722.2\n",
      "BitCoin: $79752.2\n",
      "BitCoin: $79772.2\n",
      "BitCoin: $79732.1\n",
      "BitCoin: $79772.2\n",
      "BitCoin: $79997.0\n",
      "BitCoin: $79700.1\n",
      "BitCoin: $79700.1\n",
      "BitCoin: $79700.1\n",
      "BitCoin: $79603.0\n",
      "BitCoin: $79603.1\n",
      "BitCoin: $79603.2\n",
      "BitCoin: $79623.5\n",
      "BitCoin: $79623.5\n",
      "BitCoin: $79401.1\n",
      "BitCoin: $79402.5\n",
      "BitCoin: $79403.7\n",
      "BitCoin: $79404.4\n",
      "BitCoin: $79404.4\n",
      "BitCoin: $79403.3\n",
      "BitCoin: $79403.4\n",
      "BitCoin: $79403.3\n",
      "BitCoin: $79403.3\n",
      "BitCoin: $79403.3\n",
      "BitCoin: $79403.4\n",
      "BitCoin: $79403.4\n",
      "BitCoin: $79548.3\n",
      "BitCoin: $79548.3\n",
      "BitCoin: $79548.3\n",
      "BitCoin: $79548.3\n",
      "BitCoin: $79585.8\n",
      "BitCoin: $79548.3\n",
      "BitCoin: $79548.3\n",
      "BitCoin: $79548.3\n",
      "BitCoin: $79548.3\n",
      "BitCoin: $79550.0\n",
      "BitCoin: $79548.3\n",
      "BitCoin: $79548.3\n",
      "BitCoin: $79548.3\n",
      "BitCoin: $79548.3\n",
      "BitCoin: $79548.3\n",
      "BitCoin: $79548.3\n",
      "BitCoin: $79548.3\n",
      "BitCoin: $79548.3\n",
      "BitCoin: $79500.0\n",
      "BitCoin: $79454.7\n",
      "BitCoin: $79403.4\n",
      "BitCoin: $79406.4\n",
      "BitCoin: $79403.4\n",
      "BitCoin: $79403.4\n",
      "BitCoin: $79200.0\n",
      "BitCoin: $79200.0\n",
      "BitCoin: $79200.0\n",
      "BitCoin: $79200.0\n",
      "BitCoin: $79200.1\n",
      "BitCoin: $79140.0\n",
      "BitCoin: $79140.1\n",
      "BitCoin: $79142.0\n",
      "BitCoin: $79200.0\n",
      "BitCoin: $79300.0\n",
      "BitCoin: $79322.0\n",
      "BitCoin: $79331.0\n",
      "BitCoin: $79300.0\n",
      "BitCoin: $79498.2\n",
      "BitCoin: $79400.0\n",
      "BitCoin: $79302.9\n",
      "BitCoin: $79303.4\n",
      "BitCoin: $79303.5\n",
      "BitCoin: $79303.5\n",
      "BitCoin: $79303.5\n",
      "BitCoin: $79303.7\n",
      "BitCoin: $79467.9\n",
      "BitCoin: $79544.4\n",
      "BitCoin: $79544.4\n",
      "BitCoin: $79544.4\n",
      "BitCoin: $79467.9\n",
      "BitCoin: $79481.0\n",
      "BitCoin: $79481.3\n",
      "BitCoin: $79481.8\n",
      "BitCoin: $79481.9\n",
      "BitCoin: $79481.8\n",
      "BitCoin: $79481.9\n",
      "BitCoin: $79482.0\n",
      "BitCoin: $79482.1\n",
      "BitCoin: $79482.3\n",
      "BitCoin: $79482.9\n",
      "BitCoin: $79483.4\n",
      "BitCoin: $79483.5\n",
      "BitCoin: $79481.0\n",
      "BitCoin: $79481.5\n",
      "BitCoin: $79481.6\n",
      "BitCoin: $79481.8\n",
      "BitCoin: $79714.1\n",
      "BitCoin: $79482.0\n",
      "BitCoin: $79377.0\n",
      "BitCoin: $79400.1\n",
      "BitCoin: $79675.8\n",
      "BitCoin: $79201.1\n",
      "BitCoin: $79202.4\n",
      "BitCoin: $79203.7\n",
      "BitCoin: $79210.4\n",
      "BitCoin: $79220.1\n",
      "BitCoin: $79221.4\n",
      "BitCoin: $79304.0\n",
      "BitCoin: $79681.7\n",
      "BitCoin: $79304.1\n",
      "BitCoin: $79304.2\n",
      "BitCoin: $79400.0\n",
      "BitCoin: $79400.0\n",
      "BitCoin: $79401.0\n",
      "BitCoin: $79401.0\n",
      "BitCoin: $79601.9\n",
      "BitCoin: $79601.9\n",
      "BitCoin: $79601.9\n",
      "BitCoin: $79601.9\n",
      "BitCoin: $79601.9\n",
      "BitCoin: $79601.9\n",
      "BitCoin: $79601.9\n",
      "BitCoin: $79681.7\n",
      "BitCoin: $79601.9\n",
      "BitCoin: $79602.0\n",
      "BitCoin: $79602.0\n",
      "BitCoin: $79602.1\n",
      "BitCoin: $79602.1\n",
      "BitCoin: $79602.1\n",
      "BitCoin: $79601.9\n",
      "BitCoin: $79601.9\n",
      "BitCoin: $79601.9\n",
      "BitCoin: $79601.9\n",
      "BitCoin: $79500.0\n",
      "BitCoin: $79500.0\n",
      "BitCoin: $79500.0\n",
      "BitCoin: $79401.0\n",
      "BitCoin: $79401.0\n",
      "BitCoin: $79401.0\n",
      "BitCoin: $79401.0\n",
      "BitCoin: $79401.0\n",
      "BitCoin: $79401.0\n",
      "BitCoin: $79401.1\n"
     ]
    }
   ],
   "source": [
    "cotacoes_btc = requests.get('https://economia.awesomeapi.com.br/BTC-BRL/304?start_date=20200101&end_date=20201031')\n",
    "cotacoes_btc_dic = cotacoes_btc.json()\n",
    "#print(len(cotacoes_btc_dic))\n",
    "list_cot_btc = [float(item['bid']) for item in cotacoes_btc_dic]\n",
    "list_cot_btc.reverse()\n",
    "for item in list_cot_btc:\n",
    "    print('BitCoin: ${}'.format(item))"
   ]
  },
  {
   "cell_type": "markdown",
   "metadata": {},
   "source": [
    "### Gráfico com as cotações do BitCoin"
   ]
  },
  {
   "cell_type": "code",
   "execution_count": 12,
   "metadata": {},
   "outputs": [
    {
     "data": {
      "text/plain": [
       "<function matplotlib.pyplot.show(close=None, block=None)>"
      ]
     },
     "execution_count": 12,
     "metadata": {},
     "output_type": "execute_result"
    },
    {
     "data": {
      "image/png": "[encoded data removed]",
      "text/plain": [
       "<Figure size 1440x504 with 1 Axes>"
      ]
     },
     "metadata": {
      "needs_background": "light"
     },
     "output_type": "display_data"
    }
   ],
   "source": [
    "plt.figure(figsize=(20, 7))\n",
    "plt.plot(list_cot_btc)\n",
    "plt.show"
   ]
  }
 ],
 "metadata": {
  "kernelspec": {
   "display_name": "Python 3",
   "language": "python",
   "name": "python3"
  },
  "language_info": {
   "codemirror_mode": {
    "name": "ipython",
    "version": 3
   },
   "file_extension": ".py",
   "mimetype": "text/x-python",
   "name": "python",
   "nbconvert_exporter": "python",
   "pygments_lexer": "ipython3",
   "version": "3.8.5"
  },
  "toc": {
   "base_numbering": 1,
   "nav_menu": {},
   "number_sections": true,
   "sideBar": true,
   "skip_h1_title": false,
   "title_cell": "Table of Contents",
   "title_sidebar": "Contents",
   "toc_cell": false,
   "toc_position": {},
   "toc_section_display": true,
   "toc_window_display": false
  },
  "varInspector": {
   "cols": {
    "lenName": 16,
    "lenType": 16,
    "lenVar": 40
   },
   "kernels_config": {
    "python": {
     "delete_cmd_postfix": "",
     "delete_cmd_prefix": "del ",
     "library": "var_list.py",
     "varRefreshCmd": "print(var_dic_list())"
    },
    "r": {
     "delete_cmd_postfix": ") ",
     "delete_cmd_prefix": "rm(",
     "library": "var_list.r",
     "varRefreshCmd": "cat(var_dic_list()) "
    }
   },
   "types_to_exclude": [
    "module",
    "function",
    "builtin_function_or_method",
    "instance",
    "_Feature"
   ],
   "window_display": false
  }
 },
 "nbformat": 4,
 "nbformat_minor": 4
}
